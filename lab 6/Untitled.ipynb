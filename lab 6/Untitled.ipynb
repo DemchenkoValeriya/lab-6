{
 "cells": [
  {
   "cell_type": "markdown",
   "id": "8a5feeb9-42b7-454b-b6e5-7a4070f54dc8",
   "metadata": {},
   "source": [
    "Built-in functions"
   ]
  },
  {
   "cell_type": "code",
   "execution_count": 3,
   "id": "29687f67-c466-4c4a-8c6d-c7526bdb9abb",
   "metadata": {},
   "outputs": [
    {
     "name": "stdin",
     "output_type": "stream",
     "text": [
      " 4 9 8 3 5 6\n"
     ]
    },
    {
     "name": "stdout",
     "output_type": "stream",
     "text": [
      "25920\n"
     ]
    }
   ],
   "source": [
    "import math\n",
    "numbers = list(map(int, input().split()))\n",
    "result = math.prod(numbers)\n",
    "print(result)"
   ]
  },
  {
   "cell_type": "code",
   "execution_count": 5,
   "id": "f343ddea-eee5-4796-b43c-466a8dad642f",
   "metadata": {},
   "outputs": [
    {
     "name": "stdin",
     "output_type": "stream",
     "text": [
      " ThErE aRe\n"
     ]
    },
    {
     "name": "stdout",
     "output_type": "stream",
     "text": [
      "lower: 4\n",
      "upper 4\n"
     ]
    }
   ],
   "source": [
    "st = str(input())\n",
    "upper = 0\n",
    "lower = 0\n",
    "for i in st:\n",
    "    if i.isupper():\n",
    "        upper+=1\n",
    "    if i.islower():\n",
    "        lower+=1\n",
    "print('lower:', lower)\n",
    "print('upper', upper)"
   ]
  },
  {
   "cell_type": "code",
   "execution_count": 7,
   "id": "37a936eb-48bc-4102-a40c-d0cf29ede6f5",
   "metadata": {},
   "outputs": [
    {
     "name": "stdin",
     "output_type": "stream",
     "text": [
      " mebem\n"
     ]
    },
    {
     "name": "stdout",
     "output_type": "stream",
     "text": [
      "True\n"
     ]
    }
   ],
   "source": [
    "string = str(input())\n",
    "strint1 = string.lower().replace(' ', '')\n",
    "reverse = strint1[::-1]\n",
    "print(strint1 == reverse)"
   ]
  },
  {
   "cell_type": "code",
   "execution_count": 11,
   "id": "dbbff632-c027-45ba-a9f6-23ac70eef217",
   "metadata": {},
   "outputs": [
    {
     "name": "stdin",
     "output_type": "stream",
     "text": [
      " 25100\n",
      " 2123\n"
     ]
    },
    {
     "name": "stdout",
     "output_type": "stream",
     "text": [
      "Square root of 25100 after 2123.0 miliseconds is 158.42979517754858\n"
     ]
    }
   ],
   "source": [
    "import time\n",
    "import math\n",
    "san = int(input().strip())\n",
    "second = float(input().strip())\n",
    "time.sleep(second/1000)\n",
    "print(f\"Square root of {san} after {second} miliseconds is {math.sqrt(san)}\")"
   ]
  },
  {
   "cell_type": "code",
   "execution_count": 13,
   "id": "7798b827-77d8-4ef7-a7bf-7a9e8911d3ff",
   "metadata": {},
   "outputs": [
    {
     "name": "stdout",
     "output_type": "stream",
     "text": [
      "True\n"
     ]
    }
   ],
   "source": [
    "tuple = (True, 1, 1, 5)\n",
    "print(all(tuple))"
   ]
  },
  {
   "cell_type": "markdown",
   "id": "d286b396-d34f-4153-b089-8ddb15532b93",
   "metadata": {},
   "source": [
    "Dir and files"
   ]
  },
  {
   "cell_type": "code",
   "execution_count": 18,
   "id": "35e520f6-5563-4f98-996d-015da5e531ae",
   "metadata": {},
   "outputs": [
    {
     "name": "stdout",
     "output_type": "stream",
     "text": [
      "1)  C:\\Users\\User\\Desktop\\lab 6\n",
      "2) None\n"
     ]
    }
   ],
   "source": [
    "import os\n",
    "print(\"1) \",os.getcwd())\n",
    "print(\"2)\",os.mkdir('folder'))\n",
    "if not os.path.isdir('folder'):\n",
    "    print(\"такой фолдер уже существует!\")"
   ]
  },
  {
   "cell_type": "code",
   "execution_count": 20,
   "id": "7f0a3376-8bfc-4117-b54b-81d0d496fb39",
   "metadata": {},
   "outputs": [
    {
     "name": "stdin",
     "output_type": "stream",
     "text": [
      "Enter the directory path:  f\n"
     ]
    },
    {
     "name": "stdout",
     "output_type": "stream",
     "text": [
      "The specified path does not exist!\n"
     ]
    }
   ],
   "source": [
    "import os\n",
    "path = input(\"Enter the directory path: \")\n",
    "if os.path.exists(path):\n",
    "    items = os.listdir(path)\n",
    "    print(\"Directories:\")\n",
    "    for item in items:\n",
    "        if os.path.isdir(os.path.join(path, item)):\n",
    "            print(item)\n",
    "    print(\"\\nFiles:\")\n",
    "    for item in items:\n",
    "        if os.path.isfile(os.path.join(path, item)):\n",
    "            print(item)\n",
    "    print(\"\\nAll items:\")\n",
    "    for item in items:\n",
    "        print(item)\n",
    "else:\n",
    "    print(\"The specified path does not exist!\")"
   ]
  },
  {
   "cell_type": "code",
   "execution_count": 22,
   "id": "64f85c80-cce5-45ac-a088-749f1fc97d84",
   "metadata": {},
   "outputs": [
    {
     "name": "stdin",
     "output_type": "stream",
     "text": [
      "Enter the directory path:  в\n"
     ]
    },
    {
     "name": "stdout",
     "output_type": "stream",
     "text": [
      "False\n",
      "False\n",
      "False\n",
      "False\n"
     ]
    }
   ],
   "source": [
    "import os\n",
    "path = str(input(\"Enter the directory path: \"))\n",
    "print(os.access(path, os.F_OK)) # Existence\n",
    "print(os.access(path, os.R_OK)) # Readability\n",
    "print(os.access(path, os.W_OK)) # Writeability\n",
    "print(os.access(path, os.X_OK)) # Executeability"
   ]
  },
  {
   "cell_type": "code",
   "execution_count": 24,
   "id": "3e33d476-8cc8-44dc-a1c1-b9a08455e524",
   "metadata": {},
   "outputs": [
    {
     "name": "stdin",
     "output_type": "stream",
     "text": [
      "Enter the directory path:  в\n"
     ]
    },
    {
     "name": "stdout",
     "output_type": "stream",
     "text": [
      "path is wrong! \n"
     ]
    }
   ],
   "source": [
    "import os\n",
    "path = str(input(\"Enter the directory path: \"))\n",
    "if os.access(path, os.F_OK):\n",
    "    list = os.listdir(path)\n",
    "    print(\"Files and Folders\")\n",
    "    for i in list:\n",
    "        print(i)\n",
    "else:\n",
    "    print(\"path is wrong! \")"
   ]
  },
  {
   "cell_type": "code",
   "execution_count": 36,
   "id": "675638ae-a9fe-42d0-ab5d-05cc0ef1e88e",
   "metadata": {},
   "outputs": [
    {
     "name": "stdout",
     "output_type": "stream",
     "text": [
      "Файлы A-Z созданы.\n"
     ]
    }
   ],
   "source": [
    "import string\n",
    "\n",
    "for letter in string.ascii_uppercase:\n",
    "    with open(f\"{letter}.txt\", \"w\", encoding=\"utf-8\") as file:\n",
    "        file.write(f\"Это файл {letter}.txt\")\n",
    "\n",
    "print(\"Файлы A-Z созданы.\")\n"
   ]
  },
  {
   "cell_type": "code",
   "execution_count": 30,
   "id": "6e1858f8-efe1-4382-8a02-ae15082ba5f6",
   "metadata": {},
   "outputs": [
    {
     "name": "stdout",
     "output_type": "stream",
     "text": [
      "Список записан в файл.\n"
     ]
    }
   ],
   "source": [
    "data=[\"apple\",\"banana\",\"cherry\"]\n",
    "filename=\"output.txt\"\n",
    "with open(filename,\"w\",encoding=\"utf-8\") as file:\n",
    "    for item in data:\n",
    "        file.write(item+\"\\n\")\n",
    "print(\"Список записан в файл.\")"
   ]
  },
  {
   "cell_type": "code",
   "execution_count": 32,
   "id": "9aadb2ff-2d68-4b97-8029-877c5a08778d",
   "metadata": {},
   "outputs": [
    {
     "name": "stdin",
     "output_type": "stream",
     "text": [
      "Введите имя исходного файла:  f\n",
      "Введите имя целевого файла:  f\n"
     ]
    },
    {
     "name": "stdout",
     "output_type": "stream",
     "text": [
      "Исходный файл не найден.\n"
     ]
    }
   ],
   "source": [
    "source=input(\"Введите имя исходного файла: \")\n",
    "destination=input(\"Введите имя целевого файла: \")\n",
    "try:\n",
    "    with open(source,\"r\",encoding=\"utf-8\") as src,open(destination,\"w\",encoding=\"utf-8\") as dest:\n",
    "        dest.write(src.read())\n",
    "    print(\"Файл скопирован.\")\n",
    "except FileNotFoundError:\n",
    "    print(\"Исходный файл не найден.\")"
   ]
  },
  {
   "cell_type": "code",
   "execution_count": 34,
   "id": "105819de-f85d-4bcb-b914-b4162fcdd5bc",
   "metadata": {},
   "outputs": [
    {
     "name": "stdin",
     "output_type": "stream",
     "text": [
      "Введите путь к файлу:  f\n"
     ]
    },
    {
     "name": "stdout",
     "output_type": "stream",
     "text": [
      "Файл не найден.\n"
     ]
    }
   ],
   "source": [
    "import os\n",
    "path=input(\"Введите путь к файлу: \")\n",
    "if os.path.exists(path):\n",
    "    if os.access(path,os.W_OK):\n",
    "        os.remove(path)\n",
    "        print(\"Файл удален.\")\n",
    "    else:\n",
    "        print(\"Нет прав на удаление.\")\n",
    "else:\n",
    "    print(\"Файл не найден.\")"
   ]
  }
 ],
 "metadata": {
  "kernelspec": {
   "display_name": "Python [conda env:base] *",
   "language": "python",
   "name": "conda-base-py"
  },
  "language_info": {
   "codemirror_mode": {
    "name": "ipython",
    "version": 3
   },
   "file_extension": ".py",
   "mimetype": "text/x-python",
   "name": "python",
   "nbconvert_exporter": "python",
   "pygments_lexer": "ipython3",
   "version": "3.12.7"
  }
 },
 "nbformat": 4,
 "nbformat_minor": 5
}
